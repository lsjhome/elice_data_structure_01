{
 "cells": [
  {
   "cell_type": "code",
   "execution_count": 23,
   "metadata": {
    "collapsed": true
   },
   "outputs": [],
   "source": [
    "class maxMachine:\n",
    "    def __init__(self):\n",
    "        self.MyList = []\n",
    "    \n",
    "    def addNumber(self, n):\n",
    "        self.MyList.append(n)\n",
    "    \n",
    "    def removeNumber(self, n):\n",
    "        self.MyList.remove(n)\n",
    "    \n",
    "    def getMax(self):\n",
    "        print (max(self.MyList))\n"
   ]
  },
  {
   "cell_type": "code",
   "execution_count": 24,
   "metadata": {},
   "outputs": [],
   "source": [
    "def main():\n",
    "    \n",
    "    myMachine = maxMachine()\n",
    "    \n",
    "    myMachine.addNumber(1)\n",
    "    myMachine.addNumber(2)\n",
    "    myMachine.addNumber(3)\n",
    "    myMachine.addNumber(4)\n",
    "    \n",
    "    print (myMachine.getMax())\n",
    "    \n",
    "    myMachine.removeNumber(3)\n",
    "    \n",
    "    print (myMachine.getMax())\n",
    "    \n",
    "    myMachine.removeNumber(2)\n",
    "    \n",
    "    print (myMachine.getMax())"
   ]
  },
  {
   "cell_type": "code",
   "execution_count": 25,
   "metadata": {},
   "outputs": [
    {
     "name": "stdout",
     "output_type": "stream",
     "text": [
      "4\n",
      "None\n",
      "4\n",
      "None\n",
      "4\n",
      "None\n"
     ]
    }
   ],
   "source": [
    "if __name__ == \"__main__\":\n",
    "    main()"
   ]
  }
 ],
 "metadata": {
  "kernelspec": {
   "display_name": "Python 3",
   "language": "python",
   "name": "python3"
  },
  "language_info": {
   "codemirror_mode": {
    "name": "ipython",
    "version": 3
   },
   "file_extension": ".py",
   "mimetype": "text/x-python",
   "name": "python",
   "nbconvert_exporter": "python",
   "pygments_lexer": "ipython3",
   "version": "3.5.3"
  }
 },
 "nbformat": 4,
 "nbformat_minor": 2
}
