{
 "cells": [
  {
   "cell_type": "code",
   "execution_count": 2,
   "metadata": {
    "collapsed": true
   },
   "outputs": [],
   "source": [
    "class ListPipe:\n",
    "    '''\n",
    "    List를 이용하여 다음의 method들을 작성하세요.\n",
    "    '''\n",
    "    def __init__(self) :\n",
    "        '''\n",
    "        리스트 myPipe를 만듭니다. 이는 구슬의 배치를 저장합니다.\n",
    "        '''\n",
    "        self.myPipe = []\n",
    "\n",
    "    def addLeft(self, n) :\n",
    "        '''\n",
    "        파이프의 왼쪽으로 구슬 n을 삽입합니다.\n",
    "        '''\n",
    "        self.myPipe = [n] + self.myPipe\n",
    "\n",
    "    def addRight(self, n) :\n",
    "        '''\n",
    "        파이프의 오른쪽으로 구슬 n을 삽입합니다.\n",
    "        '''\n",
    "        self.myPipe.append(n)\n",
    "\n",
    "    def getBeads(self) :\n",
    "        '''\n",
    "        파이프의 배치를 list로 반환합니다.\n",
    "        '''\n",
    "        return self.myPipe\n",
    "\n",
    "def processBeads(myInput) :\n",
    "    '''\n",
    "    구슬을 파이프에 넣는 행위가 myInput으로 주어질 때, 구슬의 최종 배치를 리스트로 반환하는 함수를 작성하세요.\n",
    "\n",
    "    myInput[i][0] : i번째에 넣는 구슬의 번호\n",
    "    myInput[i][1] : i번째에 넣는 방향\n",
    "\n",
    "    예를 들어, 예제의 경우 \n",
    "\n",
    "    myInput[0][0] = 1, myInput[0][1] = 0,\n",
    "    myInput[1][0] = 2, myInput[1][1] = 1,\n",
    "    myInput[2][0] = 3, myInput[2][1] = 0\n",
    "\n",
    "    입니다.\n",
    "\n",
    "    '''\n",
    "\n",
    "    myPipe = ListPipe()\n",
    "    \n",
    "    for x in myInput:\n",
    "        \n",
    "        if x[1] == 0:\n",
    "            myPipe.addLeft(x[0])\n",
    "            \n",
    "        else:\n",
    "            myPipe.addRight(x[0])\n",
    "\n",
    "    return myPipe.getBeads()"
   ]
  },
  {
   "cell_type": "code",
   "execution_count": 14,
   "metadata": {},
   "outputs": [
    {
     "name": "stdout",
     "output_type": "stream",
     "text": [
      "3\n",
      "1 0\n",
      "2 0\n",
      "3 0\n",
      "3 2 1\n"
     ]
    }
   ],
   "source": [
    "def main():\n",
    "    '''\n",
    "    이 곳은 수정하지 마세요.\n",
    "    '''\n",
    "\n",
    "    n = int(input())\n",
    "\n",
    "    myList = []\n",
    "\n",
    "    for i in range(n) :\n",
    "        myList.append([int(v) for v in input().split()])\n",
    "\n",
    "    print(*processBeads(myList))\n"
   ]
  },
  {
   "cell_type": "code",
   "execution_count": 16,
   "metadata": {},
   "outputs": [
    {
     "name": "stdout",
     "output_type": "stream",
     "text": [
      "5\n",
      "1 0\n",
      "2 0\n",
      "3 0\n",
      "4 0\n",
      "5 0\n",
      "5 4 3 2 1\n",
      "CPU times: user 13.4 ms, sys: 1.9 ms, total: 15.3 ms\n",
      "Wall time: 4.96 s\n"
     ]
    }
   ],
   "source": [
    "%%time\n",
    "if __name__ == \"__main__\":\n",
    "    main()"
   ]
  }
 ],
 "metadata": {
  "kernelspec": {
   "display_name": "Python 3",
   "language": "python",
   "name": "python3"
  },
  "language_info": {
   "codemirror_mode": {
    "name": "ipython",
    "version": 3
   },
   "file_extension": ".py",
   "mimetype": "text/x-python",
   "name": "python",
   "nbconvert_exporter": "python",
   "pygments_lexer": "ipython3",
   "version": "3.5.3"
  }
 },
 "nbformat": 4,
 "nbformat_minor": 2
}
