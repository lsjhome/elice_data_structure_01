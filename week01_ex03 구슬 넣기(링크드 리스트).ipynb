{
 "cells": [
  {
   "cell_type": "code",
   "execution_count": 6,
   "metadata": {
    "collapsed": true
   },
   "outputs": [],
   "source": [
    "class LinkedListElement :\n",
    "    def __init__(self) :\n",
    "        self.value = None\n",
    "        self.myNext = None\n",
    "\n",
    "class LinkedListPipe:\n",
    "    '''\n",
    "    Linked List를 이용하여 다음의 method들을 작성하세요.\n",
    "    '''\n",
    "    def __init__(self) :\n",
    "        '''\n",
    "        리스트 myPipe를 만듭니다. 이는 구슬의 배치를 저장합니다.\n",
    "        '''\n",
    "        self.start = None\n",
    "        self.end = None\n",
    "\n",
    "    def addLeft(self, n) :\n",
    "        '''\n",
    "        파이프의 왼쪽으로 구슬 n을 삽입합니다.\n",
    "        '''\n",
    "        elem = LinkedListElement()\n",
    "        elem.value = n # 구슬 정하고\n",
    "        \n",
    "        if self.start == None:\n",
    "            self.start = elem\n",
    "            self.end = elem\n",
    "        else:\n",
    "            elem.myNext = self.start # 구슬 뒤에오는거 포인터로 가르키고\n",
    "            self.start = elem # 쭉 펼치고\n",
    "\n",
    "    def addRight(self, n) :\n",
    "        '''\n",
    "        파이프의 오른쪽으로 구슬 n을 삽입합니다.\n",
    "        '''\n",
    "        elem = LinkedListElement()\n",
    "        elem.value = n\n",
    "        \n",
    "        if self.start == None:\n",
    "            self.start = elem\n",
    "            self.end = elem\n",
    "        else:\n",
    "            self.end.myNext = elem\n",
    "            self.end = elem\n",
    "            \n",
    "\n",
    "    def getBeads(self) :\n",
    "        '''\n",
    "        파이프의 배치를 list로 반환합니다.\n",
    "        '''\n",
    "        c = self.start\n",
    "        \n",
    "        result = []\n",
    "        \n",
    "        while c != None:\n",
    "            result.append(c.value)\n",
    "            c = c.myNext\n",
    "            \n",
    "        return result\n",
    "\n"
   ]
  },
  {
   "cell_type": "code",
   "execution_count": 7,
   "metadata": {
    "collapsed": true
   },
   "outputs": [],
   "source": [
    "def processBeads(myInput) :\n",
    "    '''\n",
    "    구슬을 파이프에 넣는 행위가 myInput으로 주어질 때, 구슬의 최종 배치를 리스트로 반환하는 함수를 작성하세요.\n",
    "\n",
    "    myInput[i][0] : i번째에 넣는 구슬의 번호\n",
    "    myInput[i][1] : i번째에 넣는 방향\n",
    "\n",
    "    예를 들어, 예제의 경우 \n",
    "\n",
    "    myInput[0][0] = 1, myInput[0][1] = 0,\n",
    "    myInput[1][0] = 2, myInput[1][1] = 1,\n",
    "    myInput[2][0] = 3, myInput[2][1] = 0\n",
    "\n",
    "    입니다.\n",
    "\n",
    "    '''\n",
    "\n",
    "    myPipe = LinkedListPipe()\n",
    "    \n",
    "    for x in myInput:\n",
    "        if x[1] == 0:\n",
    "            myPipe.addLeft(x[0])\n",
    "        else:\n",
    "            myPipe.addRight(x[0])\n",
    "    \n",
    "    return myPipe.getBeads()\n"
   ]
  },
  {
   "cell_type": "code",
   "execution_count": 8,
   "metadata": {
    "collapsed": true
   },
   "outputs": [],
   "source": [
    "def main():\n",
    "    '''\n",
    "    이 곳은 수정하지 마세요.\n",
    "    '''\n",
    "\n",
    "    n = int(input())\n",
    "\n",
    "    myList = []\n",
    "\n",
    "    for i in range(n) :\n",
    "        myList.append([int(v) for v in input().split()])\n",
    "\n",
    "    print(*processBeads(myList))"
   ]
  },
  {
   "cell_type": "code",
   "execution_count": 16,
   "metadata": {},
   "outputs": [
    {
     "name": "stdout",
     "output_type": "stream",
     "text": [
      "5\n",
      "1 0\n",
      "2 0\n",
      "3 0\n",
      "4 0\n",
      "5 0\n",
      "5 4 3 2 1\n",
      "CPU times: user 16 ms, sys: 1.06 ms, total: 17 ms\n",
      "Wall time: 9.9 s\n"
     ]
    }
   ],
   "source": [
    "%%time\n",
    "if __name__ == \"__main__\":\n",
    "    main()"
   ]
  }
 ],
 "metadata": {
  "kernelspec": {
   "display_name": "Python 3",
   "language": "python",
   "name": "python3"
  },
  "language_info": {
   "codemirror_mode": {
    "name": "ipython",
    "version": 3
   },
   "file_extension": ".py",
   "mimetype": "text/x-python",
   "name": "python",
   "nbconvert_exporter": "python",
   "pygments_lexer": "ipython3",
   "version": "3.5.3"
  }
 },
 "nbformat": 4,
 "nbformat_minor": 2
}
