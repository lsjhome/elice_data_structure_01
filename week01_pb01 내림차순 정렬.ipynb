{
 "cells": [
  {
   "cell_type": "code",
   "execution_count": 37,
   "metadata": {},
   "outputs": [],
   "source": [
    "class maxMachine :\n",
    "    '''\n",
    "    이곳에 '최댓값 기계' 문제에서 작성했던 코드를 붙여넣으세요\n",
    "    '''\n",
    "    def __init__(self) :\n",
    "        self.MyList = []\n",
    "\n",
    "    def addNumber(self, n) :\n",
    "        self.MyList.append(n)\n",
    "\n",
    "    def removeNumber(self, n) :\n",
    "        self.MyList.remove(n)\n",
    "\n",
    "    def getMax(self):\n",
    "        return (max(self.MyList))"
   ]
  },
  {
   "cell_type": "code",
   "execution_count": 38,
   "metadata": {
    "collapsed": true
   },
   "outputs": [],
   "source": [
    "def sorting(myList):\n",
    "    '''\n",
    "    myList를 내림차순으로 정렬하여 반환하는 함수를 작성하세요.\n",
    "\n",
    "    예를 들어, myList = [5, 2, 3, 1] 이라면 [5, 3, 2, 1] 을 반환해야 합니다.\n",
    "\n",
    "    단, maxMachine class를 이용하도록 합니다. \n",
    "    '''\n",
    "\n",
    "    myMachine = maxMachine()\n",
    "\n",
    "    for number in myList:\n",
    "        myMachine.addNumber(number)\n",
    "\n",
    "    result = []\n",
    "    while len(myMachine.MyList) != 0:\n",
    "        themax = myMachine.getMax()\n",
    "        result.append(themax)\n",
    "        myMachine.removeNumber(themax)    \n",
    "\n",
    "    return result"
   ]
  },
  {
   "cell_type": "code",
   "execution_count": 39,
   "metadata": {
    "collapsed": true
   },
   "outputs": [],
   "source": [
    "def main():\n",
    "    '''\n",
    "    이 곳은 수정하지 마세요.\n",
    "    '''\n",
    "\n",
    "    myList = [int(v) for v in input().split()]\n",
    "\n",
    "    print(sorting(myList))"
   ]
  },
  {
   "cell_type": "code",
   "execution_count": 40,
   "metadata": {},
   "outputs": [
    {
     "name": "stdout",
     "output_type": "stream",
     "text": [
      "2 5 1 4 4 3 2\n",
      "[5, 4, 4, 3, 2, 2, 1]\n"
     ]
    }
   ],
   "source": [
    "if __name__ == \"__main__\":\n",
    "    main()"
   ]
  },
  {
   "cell_type": "code",
   "execution_count": null,
   "metadata": {
    "collapsed": true
   },
   "outputs": [],
   "source": []
  }
 ],
 "metadata": {
  "kernelspec": {
   "display_name": "Python 3",
   "language": "python",
   "name": "python3"
  },
  "language_info": {
   "codemirror_mode": {
    "name": "ipython",
    "version": 3
   },
   "file_extension": ".py",
   "mimetype": "text/x-python",
   "name": "python",
   "nbconvert_exporter": "python",
   "pygments_lexer": "ipython3",
   "version": "3.5.3"
  }
 },
 "nbformat": 4,
 "nbformat_minor": 2
}
