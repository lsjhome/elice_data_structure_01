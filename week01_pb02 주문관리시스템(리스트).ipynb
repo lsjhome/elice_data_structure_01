{
 "cells": [
  {
   "cell_type": "code",
   "execution_count": null,
   "metadata": {
    "collapsed": true
   },
   "outputs": [],
   "source": [
    "import numpy as np\n",
    "\n",
    "class orderManager :\n",
    "    '''\n",
    "    주문을 처리하는 class를 작성합니다.\n",
    "    '''\n",
    "\n",
    "    def __init__(self) :\n",
    "        '''\n",
    "        이 부분은 고치지 마세요.\n",
    "        '''\n",
    "        self.data = []\n",
    "\n",
    "    def addOrder(self, orderId) :\n",
    "        '''\n",
    "        주문번호 orderId를 추가합니다.\n",
    "        '''\n",
    "        self.data.append(orderId)\n",
    "\n",
    "    def removeOrder(self, orderId) :\n",
    "        '''\n",
    "        주문번호 orderId를 제거합니다.\n",
    "        '''\n",
    "        self.data.remove(orderId)\n",
    "\n",
    "    def getOrder(self, orderId):\n",
    "        '''\n",
    "        주문번호 orderId가 몇 번째로 처리될지를 반환합니다.\n",
    "\n",
    "        만약 주문번호 orderId가 존재하지 않으면 -1을 반환합니다. \n",
    "        '''\n",
    "        if orderId not in self.data:\n",
    "            return -1\n",
    "        else:\n",
    "            return np.argmax((orderId == np.array(self.data)).astype(int)) + 1"
   ]
  },
  {
   "cell_type": "code",
   "execution_count": null,
   "metadata": {
    "collapsed": true
   },
   "outputs": [],
   "source": [
    "def main():\n",
    "    manager = orderManager()\n",
    "\n",
    "    '''\n",
    "    테스트를 하고싶으면, 아래 부분을 수정합니다.\n",
    "    '''\n",
    "\n",
    "    manager.addOrder(1)\n",
    "    manager.addOrder(2)\n",
    "    manager.addOrder(3)\n",
    "    manager.removeOrder(2)\n",
    "\n",
    "    print(manager.getOrder(1))\n",
    "    print(manager.getOrder(2))\n",
    "    print(manager.getOrder(3))"
   ]
  },
  {
   "cell_type": "code",
   "execution_count": 1,
   "metadata": {},
   "outputs": [
    {
     "name": "stdout",
     "output_type": "stream",
     "text": [
      "1\n",
      "-1\n",
      "2\n"
     ]
    }
   ],
   "source": [
    "if __name__ == \"__main__\":\n",
    "    main()"
   ]
  },
  {
   "cell_type": "code",
   "execution_count": null,
   "metadata": {
    "collapsed": true
   },
   "outputs": [],
   "source": []
  }
 ],
 "metadata": {
  "kernelspec": {
   "display_name": "Python 3",
   "language": "python",
   "name": "python3"
  },
  "language_info": {
   "codemirror_mode": {
    "name": "ipython",
    "version": 3
   },
   "file_extension": ".py",
   "mimetype": "text/x-python",
   "name": "python",
   "nbconvert_exporter": "python",
   "pygments_lexer": "ipython3",
   "version": "3.5.3"
  }
 },
 "nbformat": 4,
 "nbformat_minor": 2
}
