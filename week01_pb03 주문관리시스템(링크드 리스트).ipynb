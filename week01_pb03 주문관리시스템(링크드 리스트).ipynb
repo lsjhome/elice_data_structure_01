{
 "cells": [
  {
   "cell_type": "code",
   "execution_count": 1,
   "metadata": {
    "collapsed": true
   },
   "outputs": [],
   "source": [
    "class LinkedListElement :\n",
    "    def __init__(self, data, myPrev, myNext) :\n",
    "        self.data = data\n",
    "        self.myNext = myNext\n",
    "        self.myPrev = myPrev"
   ]
  },
  {
   "cell_type": "code",
   "execution_count": 195,
   "metadata": {
    "collapsed": true
   },
   "outputs": [],
   "source": [
    "class orderManager :\n",
    "    '''\n",
    "    주문을 처리하는 class를 작성합니다.\n",
    "    '''\n",
    "\n",
    "    def __init__(self) :\n",
    "        dummy = LinkedListElement(-1, None, None)\n",
    "        \n",
    "        self.begin = dummy\n",
    "        self.end = dummy\n",
    "        \n",
    "        self.orderToElem = {}\n",
    "        \n",
    "    def removeItemId(self, orderId):\n",
    "        del self.orderToElem[orderId]\n",
    "    \n",
    "    def addOrder(self, orderId) :\n",
    "        '''\n",
    "        주문번호 orderId를 추가합니다.\n",
    "        '''\n",
    "        singleOrder = LinkedListElement(orderId, None, None)\n",
    "        \n",
    "        self.end.myNext = singleOrder\n",
    "        singleOrder.myPrev = self.end\n",
    "        self.end = singleOrder\n",
    "        \n",
    "        self.orderToElem[orderId] = singleOrder\n",
    "        \n",
    "        \n",
    "    def removeOrder(self, orderId) :\n",
    "        '''\n",
    "        주문번호 orderId를 제거합니다.\n",
    "        '''\n",
    "        elem = self.orderToElem[orderId]\n",
    "        \n",
    "        prevElem = elem.myPrev\n",
    "        nextElem = elem.myNext\n",
    "        \n",
    "        if prevElem != None:\n",
    "            prevElem.myNext = nextElem\n",
    "            \n",
    "        if nextElem != None:\n",
    "            nextElem.myPrev = prevElem\n",
    "            \n",
    "        if elem is self.end:\n",
    "            self.end = prevElem\n",
    "        \n",
    "        del self.orderToElem[orderId]\n",
    "        \n",
    "    def getOrder(self, orderId) :\n",
    "        '''\n",
    "        주문번호 orderId가 몇 번째로 처리될지를 반환합니다.\n",
    "\n",
    "        만약 주문번호 orderId가 존재하지 않으면 -1을 반환합니다.\n",
    "        '''\n",
    "        cnt = 0\n",
    "        cur = self.begin\n",
    "        \n",
    "        while cur != None:\n",
    "            if cur.data == orderId:\n",
    "                return cnt\n",
    "            \n",
    "            cur = cur.myNext\n",
    "            cnt += 1\n",
    "            \n",
    "        return -1"
   ]
  },
  {
   "cell_type": "code",
   "execution_count": 196,
   "metadata": {
    "collapsed": true
   },
   "outputs": [],
   "source": [
    "def main():\n",
    "    manager = orderManager()\n",
    "\n",
    "    '''\n",
    "    테스트를 하고싶으면, 아래 부분을 수정합니다.\n",
    "    '''\n",
    "\n",
    "    manager.addOrder(1)\n",
    "    manager.addOrder(2)\n",
    "    manager.addOrder(3)\n",
    "    manager.removeOrder(2)\n",
    "    manager.addOrder(5)\n",
    "\n",
    "    print(manager.getOrder(1))\n",
    "    print(manager.getOrder(2))\n",
    "    print(manager.getOrder(3))\n",
    "    print(manager.getOrder(5))"
   ]
  },
  {
   "cell_type": "code",
   "execution_count": 197,
   "metadata": {
    "scrolled": true
   },
   "outputs": [
    {
     "name": "stdout",
     "output_type": "stream",
     "text": [
      "1\n",
      "-1\n",
      "2\n",
      "3\n"
     ]
    }
   ],
   "source": [
    "if __name__ == \"__main__\":\n",
    "    main()"
   ]
  }
 ],
 "metadata": {
  "kernelspec": {
   "display_name": "Python 3",
   "language": "python",
   "name": "python3"
  },
  "language_info": {
   "codemirror_mode": {
    "name": "ipython",
    "version": 3
   },
   "file_extension": ".py",
   "mimetype": "text/x-python",
   "name": "python",
   "nbconvert_exporter": "python",
   "pygments_lexer": "ipython3",
   "version": "3.5.3"
  }
 },
 "nbformat": 4,
 "nbformat_minor": 2
}
