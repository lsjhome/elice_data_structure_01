{
 "cells": [
  {
   "cell_type": "code",
   "execution_count": 4,
   "metadata": {
    "collapsed": true
   },
   "outputs": [],
   "source": [
    "class Stack:\n",
    "    '''List를 이용하여 다음의 method들을 작성하세요'''\n",
    "    \n",
    "    def __init__(self):\n",
    "        '''\n",
    "        스택 myStack을 만듭니다.\n",
    "        '''\n",
    "        self.myData = []\n",
    "    \n",
    "    def push(self, n):\n",
    "        '''\n",
    "        stack에 정수 n을 넣습니다.\n",
    "        '''\n",
    "        self.myData.append(n)\n",
    "        \n",
    "    def pop(self):\n",
    "        '''\n",
    "        stack에서 가장 위에 있는 점수를 제거한다. 만약 stack에 아무 원소가 없다면 아무 일도 하지 않는다.\n",
    "        '''\n",
    "        if len(self.myData) ==0:\n",
    "            return\n",
    "        \n",
    "        else:\n",
    "            self.myData.pop()\n",
    "            \n",
    "    def size(self):\n",
    "        '''\n",
    "        stack에 들어 있는 정수의 개수를 return 한다.\n",
    "        '''\n",
    "        return len(self.myData)\n",
    "    \n",
    "    def empty(self):\n",
    "        '''\n",
    "        stack이 비어있따면 1, 아니면 0을 return 한다.\n",
    "        '''\n",
    "        if len(self.myData) == 0:\n",
    "            return 1\n",
    "        \n",
    "        else:\n",
    "            return 0\n",
    "        \n",
    "    def top(self):\n",
    "        '''\n",
    "        stack의 가장 위에 있는 정수를 return 한다. 만약 stack에 들어있는 값이 없을 경우에는 -1을 return 한다.\n",
    "        '''\n",
    "        if len(self.myData) == 0:\n",
    "            return -1\n",
    "        else:\n",
    "            return self.myData[-1]"
   ]
  },
  {
   "cell_type": "code",
   "execution_count": 7,
   "metadata": {
    "collapsed": true
   },
   "outputs": [],
   "source": [
    "def main():\n",
    "    stack = Stack()\n",
    "    '''\n",
    "    테스트를 하고 싶으면, 아래 부분을 수정한다.\n",
    "    '''\n",
    "    stack.push(1)\n",
    "    stack.push(2)\n",
    "    stack.push(4)\n",
    "    stack.pop()\n",
    "    \n",
    "    print (stack.size())\n",
    "    print (stack.top())"
   ]
  },
  {
   "cell_type": "code",
   "execution_count": 8,
   "metadata": {},
   "outputs": [
    {
     "name": "stdout",
     "output_type": "stream",
     "text": [
      "2\n",
      "2\n"
     ]
    }
   ],
   "source": [
    "if __name__ == \"__main__\":\n",
    "    main()"
   ]
  },
  {
   "cell_type": "code",
   "execution_count": null,
   "metadata": {
    "collapsed": true
   },
   "outputs": [],
   "source": []
  }
 ],
 "metadata": {
  "kernelspec": {
   "display_name": "Python 3",
   "language": "python",
   "name": "python3"
  },
  "language_info": {
   "codemirror_mode": {
    "name": "ipython",
    "version": 3
   },
   "file_extension": ".py",
   "mimetype": "text/x-python",
   "name": "python",
   "nbconvert_exporter": "python",
   "pygments_lexer": "ipython3",
   "version": "3.5.3"
  }
 },
 "nbformat": 4,
 "nbformat_minor": 2
}
