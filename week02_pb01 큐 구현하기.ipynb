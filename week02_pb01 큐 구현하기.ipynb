{
 "cells": [
  {
   "cell_type": "code",
   "execution_count": 8,
   "metadata": {
    "collapsed": true
   },
   "outputs": [],
   "source": [
    "class Queue:\n",
    "\n",
    "    '''\n",
    "    List를 이용하여 다음의 method들을 작성하세요.\n",
    "    '''\n",
    "    def __init__(self) :\n",
    "        '''\n",
    "        큐 myQueue을 만듭니다.\n",
    "        \n",
    "        '''\n",
    "        \n",
    "        self.myData = []\n",
    "        \n",
    "\n",
    "    def push(self, n) :\n",
    "        '''\n",
    "        queue에 정수 n을 넣습니다.\n",
    "        '''\n",
    "        self.myData.append(n)\n",
    "        \n",
    "        \n",
    "\n",
    "    def pop(self) :\n",
    "        '''\n",
    "        queue에서 가장 앞에 있는 정수를 제거합니다. 만약 queue에 들어있는 값이 없을 경우에는 아무 일도 하지 않습니다. \n",
    "        '''\n",
    "        if len(self.myData) == 0:\n",
    "            pass\n",
    "            \n",
    "        else:\n",
    "            self.myData = self.myData[1:]\n",
    "        \n",
    "\n",
    "    def size(self) :\n",
    "        '''\n",
    "        queue에 들어 있는 정수의 개수를 return 합니다.\n",
    "        '''\n",
    "        return len(self.myData)\n",
    "\n",
    "    def empty(self) :\n",
    "        '''\n",
    "        queue이 비어있다면 1, 아니면 0을 return 합니다.\n",
    "        '''\n",
    "        if len(self.myData) == 0:\n",
    "            return 1\n",
    "            \n",
    "        else:\n",
    "            return 0\n",
    "\n",
    "    def front(self) :\n",
    "        '''\n",
    "        queue의 가장 앞에 있는 정수를 return 합니다. 만약 queue에 들어있는 값이 없을 경우에는 -1을 return 합니다.\n",
    "        '''\n",
    "        if len(self.myData) ==0:\n",
    "            return -1\n",
    "        else:\n",
    "            return self.myData[0]\n",
    "\n",
    "    def back(self) :\n",
    "        '''\n",
    "        queue의 가장 뒤에 있는 정수를 return 합니다. 만약 queue에 들어있는 값이 없을 경우에는 -1을 return 합니다.\n",
    "        '''\n",
    "\n",
    "        if len(self.myData) ==0:\n",
    "            return -1\n",
    "        else:\n",
    "            return self.myData[-1]"
   ]
  },
  {
   "cell_type": "code",
   "execution_count": 14,
   "metadata": {
    "collapsed": true
   },
   "outputs": [],
   "source": [
    "def main():\n",
    "    queue = Queue()\n",
    "\n",
    "    '''\n",
    "    테스트를 하고싶으면, 아래 부분을 수정합니다.\n",
    "    '''\n",
    "    queue.push(1)\n",
    "    queue.push(2)\n",
    "    queue.pop()\n",
    "    queue.push(4)\n",
    "    queue.pop()\n",
    "\n",
    "    print(queue.size()) \n",
    "    print(queue.front())\n",
    "    print(queue.empty())"
   ]
  },
  {
   "cell_type": "code",
   "execution_count": 15,
   "metadata": {
    "scrolled": true
   },
   "outputs": [
    {
     "name": "stdout",
     "output_type": "stream",
     "text": [
      "1\n",
      "4\n",
      "0\n"
     ]
    }
   ],
   "source": [
    "if __name__ == \"__main__\":\n",
    "    main()"
   ]
  }
 ],
 "metadata": {
  "kernelspec": {
   "display_name": "Python 3",
   "language": "python",
   "name": "python3"
  },
  "language_info": {
   "codemirror_mode": {
    "name": "ipython",
    "version": 3
   },
   "file_extension": ".py",
   "mimetype": "text/x-python",
   "name": "python",
   "nbconvert_exporter": "python",
   "pygments_lexer": "ipython3",
   "version": "3.5.3"
  }
 },
 "nbformat": 4,
 "nbformat_minor": 2
}
